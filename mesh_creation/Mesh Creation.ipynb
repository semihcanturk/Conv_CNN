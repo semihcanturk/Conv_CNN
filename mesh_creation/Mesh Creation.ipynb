{
 "cells": [
  {
   "cell_type": "code",
   "execution_count": null,
   "metadata": {
    "collapsed": false,
    "deletable": true,
    "editable": true
   },
   "outputs": [],
   "source": [
    "import openmesh as om"
   ]
  },
  {
   "cell_type": "code",
   "execution_count": 2,
   "metadata": {
    "collapsed": false,
    "deletable": true,
    "editable": true
   },
   "outputs": [],
   "source": [
    "mesh = om.TriMesh()"
   ]
  },
  {
   "cell_type": "code",
   "execution_count": 3,
   "metadata": {
    "collapsed": false,
    "deletable": true,
    "editable": true
   },
   "outputs": [],
   "source": [
    "from numpy import genfromtxt\n",
    "data0 = genfromtxt('data0.csv', delimiter=',')\n",
    "data1 = genfromtxt('data1.csv', delimiter=',')"
   ]
  },
  {
   "cell_type": "code",
   "execution_count": 4,
   "metadata": {
    "collapsed": false,
    "deletable": true,
    "editable": true
   },
   "outputs": [
    {
     "data": {
      "text/plain": [
       "array([[ -3.79789305, -50.17031097,  35.14861679],\n",
       "       [-22.81571388, -46.55905151,  77.07170105],\n",
       "       [-54.72554779,   2.47946715,  50.96318054],\n",
       "       ..., \n",
       "       [-66.48540497, -50.40995789,  -9.82856941],\n",
       "       [-66.51177216, -50.57296753,  -9.01811409],\n",
       "       [-66.26628876, -51.74495697,  -9.21306229]])"
      ]
     },
     "execution_count": 4,
     "metadata": {},
     "output_type": "execute_result"
    }
   ],
   "source": [
    "data0"
   ]
  },
  {
   "cell_type": "code",
   "execution_count": 5,
   "metadata": {
    "collapsed": false,
    "deletable": true,
    "editable": true
   },
   "outputs": [],
   "source": [
    "data1 = data1.astype(int)"
   ]
  },
  {
   "cell_type": "code",
   "execution_count": 6,
   "metadata": {
    "collapsed": false,
    "deletable": true,
    "editable": true
   },
   "outputs": [],
   "source": [
    "verts = []\n",
    "for i in data0:\n",
    "    verts.append(mesh.add_vertex(i))"
   ]
  },
  {
   "cell_type": "code",
   "execution_count": 7,
   "metadata": {
    "collapsed": false,
    "deletable": true,
    "editable": true
   },
   "outputs": [],
   "source": [
    "faces = []\n",
    "for i in data1:\n",
    "    faces.append(mesh.add_face(verts[i[0]], verts[i[1]], verts[i[2]]))"
   ]
  },
  {
   "cell_type": "code",
   "execution_count": 8,
   "metadata": {
    "collapsed": false,
    "deletable": true,
    "editable": true
   },
   "outputs": [
    {
     "data": {
      "text/plain": [
       "array([[ -3.79789305, -50.17031097,  35.14861679],\n",
       "       [-22.81571388, -46.55905151,  77.07170105],\n",
       "       [-54.72554779,   2.47946715,  50.96318054],\n",
       "       ..., \n",
       "       [-66.48540497, -50.40995789,  -9.82856941],\n",
       "       [-66.51177216, -50.57296753,  -9.01811409],\n",
       "       [-66.26628876, -51.74495697,  -9.21306229]])"
      ]
     },
     "execution_count": 8,
     "metadata": {},
     "output_type": "execute_result"
    }
   ],
   "source": [
    "mesh.points()"
   ]
  },
  {
   "cell_type": "code",
   "execution_count": 9,
   "metadata": {
    "collapsed": false,
    "deletable": true,
    "editable": true
   },
   "outputs": [],
   "source": [
    "om.write_mesh('mesh.off', mesh)"
   ]
  },
  {
   "cell_type": "code",
   "execution_count": 10,
   "metadata": {
    "collapsed": false,
    "deletable": true,
    "editable": true
   },
   "outputs": [
    {
     "data": {
      "text/plain": [
       "<openmesh.TriMesh at 0x10d44d228>"
      ]
     },
     "execution_count": 10,
     "metadata": {},
     "output_type": "execute_result"
    }
   ],
   "source": [
    "om.read_trimesh('mesh.off')"
   ]
  },
  {
   "cell_type": "code",
   "execution_count": 11,
   "metadata": {
    "collapsed": false,
    "deletable": true,
    "editable": true
   },
   "outputs": [
    {
     "data": {
      "text/plain": [
       "array([[   68,    12,     0],\n",
       "       [  180,    12,    68],\n",
       "       [  180,    13,    12],\n",
       "       ..., \n",
       "       [ 8440, 32491, 21432],\n",
       "       [ 8440,  8441, 32491],\n",
       "       [    9,  8440, 21432]])"
      ]
     },
     "execution_count": 11,
     "metadata": {},
     "output_type": "execute_result"
    }
   ],
   "source": [
    "data1"
   ]
  },
  {
   "cell_type": "code",
   "execution_count": 12,
   "metadata": {
    "collapsed": false,
    "deletable": true,
    "editable": true
   },
   "outputs": [
    {
     "data": {
      "text/plain": [
       "(32492, 3)"
      ]
     },
     "execution_count": 12,
     "metadata": {},
     "output_type": "execute_result"
    }
   ],
   "source": [
    "data0.shape"
   ]
  },
  {
   "cell_type": "code",
   "execution_count": 13,
   "metadata": {
    "collapsed": false,
    "deletable": true,
    "editable": true
   },
   "outputs": [],
   "source": [
    "import numpy as np\n",
    "adj_mtx = np.zeros(shape=(32492,32492))"
   ]
  },
  {
   "cell_type": "code",
   "execution_count": 14,
   "metadata": {
    "collapsed": false,
    "deletable": true,
    "editable": true
   },
   "outputs": [],
   "source": [
    "for i in data1:\n",
    "    p1 = i[0]\n",
    "    p2 = i[1]\n",
    "    p3 = i[2]\n",
    "    \n",
    "    adj_mtx[p1][p2] = 1\n",
    "    adj_mtx[p2][p1] = 1\n",
    "    \n",
    "    adj_mtx[p1][p3] = 1\n",
    "    adj_mtx[p3][p1] = 1\n",
    "    \n",
    "    adj_mtx[p2][p3] = 1\n",
    "    adj_mtx[p3][p2] = 1"
   ]
  },
  {
   "cell_type": "markdown",
   "metadata": {
    "deletable": true,
    "editable": true
   },
   "source": [
    "# API"
   ]
  },
  {
   "cell_type": "code",
   "execution_count": 15,
   "metadata": {
    "collapsed": false,
    "deletable": true,
    "editable": true
   },
   "outputs": [],
   "source": [
    "import math\n",
    "from numpy import linalg as LA"
   ]
  },
  {
   "cell_type": "code",
   "execution_count": 16,
   "metadata": {
    "collapsed": true,
    "deletable": true,
    "editable": true
   },
   "outputs": [],
   "source": [
    "def get_dist(v,j):\n",
    "    coords1 = data0[v]\n",
    "    coords2 = data0[j]\n",
    "    #print(coords1)\n",
    "    #print(coords2)\n",
    "    #print(coords1-coords2)\n",
    "    return math.sqrt((coords1[0]-coords2[0])**2 + (coords1[1]-coords2[1])**2 + (coords1[2]-coords2[2])**2)"
   ]
  },
  {
   "cell_type": "code",
   "execution_count": 17,
   "metadata": {
    "collapsed": false,
    "deletable": true,
    "editable": true
   },
   "outputs": [],
   "source": [
    "def get_order(ix_list, closest_ix):\n",
    "    arr = []\n",
    "    seen = []\n",
    "    arr.append(closest_ix)\n",
    "    seen.append(closest_ix)\n",
    "    v = closest_ix\n",
    "    #find the neighbor\n",
    "    #print(closest_ix)\n",
    "    #print(ix_list)\n",
    "    neigh_list = []\n",
    "    \n",
    "    list_of_lists = []\n",
    "    for i in ix_list:\n",
    "        neighs = np.nonzero(adj_mtx[i])\n",
    "        neighs = neighs[0]\n",
    "        list_of_lists.append(neighs)\n",
    "    \n",
    "    ct = 0\n",
    "    for i in list_of_lists:\n",
    "        #print(closest_ix)\n",
    "        #print(i)\n",
    "        if closest_ix in i:\n",
    "            neigh_list.append(ix_list[ct])\n",
    "        ct += 1\n",
    "        \n",
    "    #print(\"AAAA\")\n",
    "    #print(neigh_list)\n",
    "    \n",
    "    while(len(arr) != len(ix_list)):\n",
    "        if len(neigh_list) == 2:\n",
    "            #print('LALALA')\n",
    "            v1 = neigh_list[0]\n",
    "            v2 = neigh_list[1]\n",
    "            x1 = data0[v1]\n",
    "            x2 = data0[v2]\n",
    "            if x1[0] <= x2[0]:\n",
    "                #print(\"BOB\")\n",
    "                v = v1\n",
    "                arr.append(v)\n",
    "                seen.append(v)\n",
    "                \n",
    "                neigh_list = []\n",
    "                ct = 0\n",
    "                for i in list_of_lists:\n",
    "                    if v in i and ix_list[ct] not in seen:\n",
    "                        neigh_list.append(ix_list[ct])\n",
    "                        seen.append(ix_list[ct])\n",
    "                    ct += 1\n",
    "                \n",
    "            else:\n",
    "                #print(\"DOD\")\n",
    "                v = v2\n",
    "                arr.append(v)\n",
    "                seen.append(v)\n",
    "                \n",
    "                neigh_list = []\n",
    "                ct = 0\n",
    "                for i in list_of_lists:\n",
    "                    if v in i and ix_list[ct] not in seen:\n",
    "                        neigh_list.append(ix_list[ct])\n",
    "                        seen.append(ix_list[ct])\n",
    "                    ct += 1\n",
    "                    \n",
    "        if len(neigh_list) == 1:\n",
    "            v = neigh_list[0]\n",
    "            arr.append(v)\n",
    "            seen.append(v)\n",
    "            \n",
    "            neigh_list = []\n",
    "            ct = 0\n",
    "            for i in list_of_lists:\n",
    "                if v in i and ix_list[ct] not in seen:\n",
    "                    neigh_list.append(ix_list[ct])\n",
    "                    seen.append(ix_list[ct])\n",
    "                ct += 1\n",
    "            \n",
    "        if len(neigh_list) == 0:\n",
    "            return arr"
   ]
  },
  {
   "cell_type": "code",
   "execution_count": 18,
   "metadata": {
    "collapsed": false,
    "deletable": true,
    "editable": true
   },
   "outputs": [],
   "source": [
    "def find_region(vertex, r):\n",
    "    verts = []\n",
    "    \n",
    "    #level_0\n",
    "    verts.append(vertex)\n",
    "    v = vertex\n",
    "    \n",
    "    #find closest point in level 1\n",
    "    row = adj_mtx[v]\n",
    "    ix_list = np.nonzero(row)\n",
    "    ix_list = ix_list[0]\n",
    "    dists = []\n",
    "    for j in ix_list:\n",
    "        d = get_dist(v,j)\n",
    "        dists.append(d)\n",
    "    ix_min = ix_list[dists.index(min(dists))]    \n",
    "    closest_ix = ix_min\n",
    "    \n",
    "    #levels_>=1\n",
    "    for i in range(1,r+1):   \n",
    "        #this is the closest vertex of the new level\n",
    "        #find the ordering of the level\n",
    "        arr = get_order(ix_list, closest_ix)\n",
    "        print('ARR: ')\n",
    "        print(arr)\n",
    "        verts = verts + arr\n",
    "        #get next level: for each in ix_list, get neighbors that are not in <verts>, then add them to the new list\n",
    "        next_list = []\n",
    "        for j in ix_list:\n",
    "            new_row = adj_mtx[j]\n",
    "            new_row = np.nonzero(new_row)\n",
    "            new_row = new_row[0]\n",
    "            #print(\"K\")\n",
    "            \n",
    "            for k in new_row:\n",
    "                #print(k)\n",
    "                #print(verts)\n",
    "                if k not in verts:\n",
    "                    next_list.append(k)\n",
    "        next_list = list(set(next_list))            \n",
    "        print(next_list)\n",
    "        \n",
    "        #find starting point of next level using line eq\n",
    "        c1 = data0[vertex]\n",
    "        c2 = data0[closest_ix]\n",
    "        line_dists = []\n",
    "        for j in next_list:\n",
    "            c3 = data0[j]\n",
    "            line_dist = LA.norm(np.cross(c2-c1, c1-c3))/LA.norm(c2-c1) #not exactly sure of this\n",
    "            line_dists.append(line_dist)\n",
    "        ix_list = next_list\n",
    "        closest_ix = next_list[line_dists.index(min(line_dists))]\n",
    "        print(\"closest_ix\")\n",
    "        print(closest_ix)\n",
    "    return verts"
   ]
  },
  {
   "cell_type": "code",
   "execution_count": 19,
   "metadata": {
    "collapsed": false,
    "deletable": true,
    "editable": true,
    "scrolled": true
   },
   "outputs": [
    {
     "name": "stdout",
     "output_type": "stream",
     "text": [
      "ARR: \n",
      "[25951, 25925, 94, 1255, 1224, 92]\n",
      "[25952, 1285, 25926, 1192, 1193, 25898, 25899, 1256, 1225, 25976, 91, 95]\n",
      "closest_ix\n",
      "25952\n",
      "ARR: \n",
      "[25952, 25926, 25899, 25898, 95, 1285, 1256, 1225, 1193, 1192, 91, 25976]\n",
      "[96, 25953, 1314, 1286, 25927, 1160, 1161, 1194, 1159, 25900, 25870, 25871, 25872, 26000, 1257, 25977, 90, 1226]\n",
      "closest_ix\n",
      "25953\n"
     ]
    }
   ],
   "source": [
    "region = find_region(93,2)"
   ]
  },
  {
   "cell_type": "code",
   "execution_count": 20,
   "metadata": {
    "collapsed": true,
    "deletable": true,
    "editable": true
   },
   "outputs": [],
   "source": [
    "lev0 = region[0]\n",
    "lev1 = region[1:7]\n",
    "lev2 = region[7:]"
   ]
  },
  {
   "cell_type": "code",
   "execution_count": 21,
   "metadata": {
    "collapsed": false,
    "deletable": true,
    "editable": true
   },
   "outputs": [
    {
     "name": "stdout",
     "output_type": "stream",
     "text": [
      "93\n",
      "[25951, 25925, 94, 1255, 1224, 92]\n",
      "[25952, 25926, 25899, 25898, 95, 1285, 1256, 1225, 1193, 1192, 91, 25976]\n"
     ]
    }
   ],
   "source": [
    "print(lev0)\n",
    "print(lev1)\n",
    "print(lev2)"
   ]
  },
  {
   "cell_type": "code",
   "execution_count": 22,
   "metadata": {
    "collapsed": true,
    "deletable": true,
    "editable": true
   },
   "outputs": [],
   "source": [
    "scalar = np.zeros(32492)"
   ]
  },
  {
   "cell_type": "code",
   "execution_count": 23,
   "metadata": {
    "collapsed": false,
    "deletable": true,
    "editable": true
   },
   "outputs": [],
   "source": [
    "scalar[lev0] = 50\n",
    "    \n",
    "for i in lev1:\n",
    "    scalar[i] = 200\n",
    "    \n",
    "for i in lev2:\n",
    "    scalar[i] = 50"
   ]
  },
  {
   "cell_type": "code",
   "execution_count": 24,
   "metadata": {
    "collapsed": false,
    "deletable": true,
    "editable": true
   },
   "outputs": [],
   "source": [
    "scalar = scalar.astype(int)"
   ]
  },
  {
   "cell_type": "code",
   "execution_count": 25,
   "metadata": {
    "collapsed": false,
    "deletable": true,
    "editable": true
   },
   "outputs": [
    {
     "data": {
      "text/plain": [
       "1850"
      ]
     },
     "execution_count": 25,
     "metadata": {},
     "output_type": "execute_result"
    }
   ],
   "source": [
    "sum(scalar)"
   ]
  },
  {
   "cell_type": "code",
   "execution_count": 26,
   "metadata": {
    "collapsed": false,
    "deletable": true,
    "editable": true
   },
   "outputs": [],
   "source": [
    "import nibabel as nib\n",
    "\n",
    "overlay = nib.Nifti2Image(scalar, affine=np.eye(4))"
   ]
  },
  {
   "cell_type": "code",
   "execution_count": 27,
   "metadata": {
    "collapsed": false,
    "deletable": true,
    "editable": true
   },
   "outputs": [],
   "source": [
    "nib.save(overlay, 'overlay.nii')"
   ]
  },
  {
   "cell_type": "code",
   "execution_count": 28,
   "metadata": {
    "collapsed": false,
    "deletable": true,
    "editable": true
   },
   "outputs": [
    {
     "name": "stdout",
     "output_type": "stream",
     "text": [
      "Automatically created module for IPython interactive environment\n"
     ]
    },
    {
     "data": {
      "text/plain": [
       "'\\nDisplay the overlay on the surface using the defaults to control thresholding\\nand colorbar saturation.  These can be set through your config file.\\n'"
      ]
     },
     "execution_count": 28,
     "metadata": {},
     "output_type": "execute_result"
    }
   ],
   "source": [
    "from surfer import Brain\n",
    "\n",
    "print(__doc__)\n",
    "\n",
    "subjects_dir = 'SUBJECTS_DIR'\n",
    "subject_id = 'fsaverage'\n",
    "hemi = 'lh'\n",
    "surf = 'inflated'\n",
    "\n",
    "#brain = Brain(\"fsaverage\", \"lh\", \"inflated\", subjects_dir=subjects_dir)\n",
    "\n",
    "brain = Brain(subject_id, hemi, surf, subjects_dir=subjects_dir, cortex='high_contrast', background='#151540')\n",
    "\n",
    "\n",
    "#overlay_file = \"example_data/lh.sig.nii.gz\"\n",
    "#overlay = nib.load(overlay_file)\n",
    "#brain.add_overlay(overlay_file, min=5, max=20, sign=\"pos\")\n",
    "\n",
    "#overlay_file = 'overlay.nii'\n",
    "#overlay = nib.load(overlay_file).dataobj\n",
    "#brain.add_data(overlay, colormap=\"bone\")"
   ]
  },
  {
   "cell_type": "code",
   "execution_count": 2,
   "metadata": {
    "collapsed": false,
    "deletable": true,
    "editable": true
   },
   "outputs": [
    {
     "name": "stdout",
     "output_type": "stream",
     "text": [
      "/Users/semo/Library/Enthought/Canopy/edm/envs/User/Resources/Python.app/Contents/MacOS/Python\n"
     ]
    }
   ],
   "source": [
    "import sys\n",
    "print(sys.executable)"
   ]
  },
  {
   "cell_type": "code",
   "execution_count": null,
   "metadata": {
    "collapsed": true
   },
   "outputs": [],
   "source": []
  }
 ],
 "metadata": {
  "kernelspec": {
   "display_name": "Python 2",
   "language": "python",
   "name": "python2"
  },
  "language_info": {
   "codemirror_mode": {
    "name": "ipython",
    "version": 2
   },
   "file_extension": ".py",
   "mimetype": "text/x-python",
   "name": "python",
   "nbconvert_exporter": "python",
   "pygments_lexer": "ipython2",
   "version": "2.7.13"
  }
 },
 "nbformat": 4,
 "nbformat_minor": 2
}
