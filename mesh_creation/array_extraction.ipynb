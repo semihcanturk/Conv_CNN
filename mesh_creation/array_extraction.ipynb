{
 "cells": [
  {
   "cell_type": "code",
   "execution_count": null,
   "metadata": {
    "collapsed": false,
    "deletable": true,
    "editable": true
   },
   "outputs": [],
   "source": [
    "import os\n",
    "import numpy as np\n",
    "import nibabel as nib\n",
    "#from nibabel.testing import data_path\n",
    "\n",
    "#conv = os.path.join(data_path, '../convdata/100206.L.very_inflated.32k_fs_LR.surf.gii')\n",
    "\n",
    "\n",
    "#ts = nib.load(file_dtseries).dataobj\n",
    "file_gii = 'convdata/100206.L.very_inflated.32k_fs_LR.surf.gii'\n",
    "file_gii = os.path.join(file_gii)\n",
    "img = nib.load(file_gii)"
   ]
  },
  {
   "cell_type": "code",
   "execution_count": 2,
   "metadata": {
    "collapsed": true
   },
   "outputs": [
    {
     "name": "stdout",
     "output_type": "stream",
     "text": [
      "----start----\n",
      "Source filename:  None\n",
      "Number of data arrays:  2\n",
      "Version:  1\n",
      "----\n",
      "Metadata:\n",
      "{'ParentProvenance': '/HCP/hcpdb/build_ssd/chpc/BUILD/HCP_Staging/1430803822_100206/STRUCTURAL//100206/MNINonLinear/fsaverage_LR32k/100206.L.midthickness.32k_fs_LR.surf.gii:\\n/home/HCPpipeline/pipeline_tools/Pipelines/global/binaries/caret7/bin_rh_linux64/../exe_rh_linux64/wb_command -surface-resample /HCP/hcpdb/build_ssd/chpc/BUILD/HCP_Staging/1430803822_100206/STRUCTURAL//100206/MNINonLinear/Native/100206.L.midthickness.native.surf.gii /HCP/hcpdb/build_ssd/chpc/BUILD/HCP_Staging/1430803822_100206/STRUCTURAL//100206/MNINonLinear/Native/100206.L.sphere.MSMSulc.native.surf.gii /HCP/hcpdb/build_ssd/chpc/BUILD/HCP_Staging/1430803822_100206/STRUCTURAL//100206/MNINonLinear/fsaverage_LR32k/100206.L.sphere.32k_fs_LR.surf.gii BARYCENTRIC /HCP/hcpdb/build_ssd/chpc/BUILD/HCP_Staging/1430803822_100206/STRUCTURAL//100206/MNINonLinear/fsaverage_LR32k/100206.L.midthickness.32k_fs_LR.surf.gii', 'ProgramProvenance': 'Connectome Workbench\\nVersion: Beta 0.85\\nQt Compiled Version: 4.8.4\\nQt Runtime Version: 4.8.4\\ncommit: 7a481e8daa6b61b160aac7645ac08e3a57ed1705\\ncommit date: 2014-05-15 19:41:22 -0500\\nCompiled Debug: NO\\nOperating System: Linux', 'Provenance': '/home/HCPpipeline/pipeline_tools/Pipelines/global/binaries/caret7/bin_rh_linux64/../exe_rh_linux64/wb_command -surface-resample /HCP/hcpdb/build_ssd/chpc/BUILD/HCP_Staging/1430803822_100206/STRUCTURAL//100206/MNINonLinear/Native/100206.L.midthickness.native.surf.gii /HCP/hcpdb/build_ssd/chpc/BUILD/HCP_Staging/1430803822_100206/STRUCTURAL//100206/MNINonLinear/Native/100206.L.sphere.MSMSulc.native.surf.gii /HCP/hcpdb/build_ssd/chpc/BUILD/HCP_Staging/1430803822_100206/STRUCTURAL//100206/MNINonLinear/fsaverage_LR32k/100206.L.sphere.32k_fs_LR.surf.gii BARYCENTRIC /HCP/hcpdb/build_ssd/chpc/BUILD/HCP_Staging/1430803822_100206/STRUCTURAL//100206/MNINonLinear/fsaverage_LR32k/100206.L.midthickness.32k_fs_LR.surf.gii', 'UniqueID': '{3d719e7c-8351-4baf-bde5-bc3a9ccadc1e}', 'WorkingDirectory': '/HCP/hcpdb/build_ssd/chpc/BUILD/HCP_Staging/1430803822_100206/STRUCTURAL/100206'}\n",
      "None\n",
      "----\n",
      "Labeltable:\n",
      "{0: '???'}\n",
      "None\n",
      "----\n",
      "DataArray 0:\n",
      "Intent:  NIFTI_INTENT_POINTSET\n",
      "DataType:  NIFTI_TYPE_FLOAT32\n",
      "ArrayIndexingOrder:  RowMajorOrder\n",
      "Dimensionality:  2\n",
      "Dimensions:  [32492, 3]\n",
      "Encoding:  GZipBase64Binary\n",
      "Endian:  LittleEndian\n",
      "ExternalFileName:  \n",
      "ExternalFileOffset:  0\n",
      "----\n",
      "Coordinate System:\n",
      "Dataspace:  NIFTI_XFORM_TALAIRACH\n",
      "XFormSpace:  NIFTI_XFORM_TALAIRACH\n",
      "Affine Transformation Matrix: \n",
      " [[ 1.  0.  0.  0.]\n",
      " [ 0.  1.  0.  0.]\n",
      " [ 0.  0.  1.  0.]\n",
      " [ 0.  0.  0.  1.]]\n",
      "None\n",
      "None\n",
      "----\n",
      "DataArray 1:\n",
      "Intent:  NIFTI_INTENT_TRIANGLE\n",
      "DataType:  NIFTI_TYPE_INT32\n",
      "ArrayIndexingOrder:  RowMajorOrder\n",
      "Dimensionality:  2\n",
      "Dimensions:  [64980, 3]\n",
      "Encoding:  GZipBase64Binary\n",
      "Endian:  LittleEndian\n",
      "ExternalFileName:  \n",
      "ExternalFileOffset:  0\n",
      "----\n",
      "Coordinate System:\n",
      "Dataspace:  NIFTI_XFORM_UNKNOWN\n",
      "XFormSpace:  NIFTI_XFORM_UNKNOWN\n",
      "Affine Transformation Matrix: \n",
      " [[ 1.  0.  0.  0.]\n",
      " [ 0.  1.  0.  0.]\n",
      " [ 0.  0.  1.  0.]\n",
      " [ 0.  0.  0.  1.]]\n",
      "None\n",
      "None\n",
      "----end----\n"
     ]
    }
   ],
   "source": [
    "img.print_summary()"
   ]
  },
  {
   "cell_type": "code",
   "execution_count": 33,
   "metadata": {},
   "outputs": [],
   "source": [
    "# these are the spatial coordinates\n",
    "coords_gii = img.darrays[0].data\n",
    "\n",
    "# these are the mesh connections\n",
    "faces_gii = img.darrays[1].data"
   ]
  },
  {
   "cell_type": "code",
   "execution_count": 38,
   "metadata": {},
   "outputs": [
    {
     "data": {
      "text/plain": [
       "array([[ -3.79789305, -50.17031097,  35.14861679],\n",
       "       [-22.81571388, -46.55905151,  77.07170105],\n",
       "       [-54.72554779,   2.47946715,  50.96318054],\n",
       "       ..., \n",
       "       [-66.48540497, -50.40995789,  -9.82856941],\n",
       "       [-66.51177216, -50.57296753,  -9.01811409],\n",
       "       [-66.26628876, -51.74495697,  -9.21306229]], dtype=float32)"
      ]
     },
     "execution_count": 38,
     "metadata": {},
     "output_type": "execute_result"
    }
   ],
   "source": [
    "data0 = arr0.data\n",
    "data0"
   ]
  },
  {
   "cell_type": "code",
   "execution_count": 39,
   "metadata": {},
   "outputs": [
    {
     "data": {
      "text/plain": [
       "array([[   68,    12,     0],\n",
       "       [  180,    12,    68],\n",
       "       [  180,    13,    12],\n",
       "       ..., \n",
       "       [ 8440, 32491, 21432],\n",
       "       [ 8440,  8441, 32491],\n",
       "       [    9,  8440, 21432]], dtype=int32)"
      ]
     },
     "execution_count": 39,
     "metadata": {},
     "output_type": "execute_result"
    }
   ],
   "source": [
    "data1 = arr1.data\n",
    "data1"
   ]
  },
  {
   "cell_type": "code",
   "execution_count": 42,
   "metadata": {},
   "outputs": [],
   "source": [
    "import matplotlib.pyplot as plt\n",
    "from sklearn.preprocessing import normalize"
   ]
  },
  {
   "cell_type": "code",
   "execution_count": 45,
   "metadata": {},
   "outputs": [],
   "source": [
    "im = plt.imshow(data0, cmap='seismic', interpolation='none')\n",
    "\n",
    "plt.imshow(data0, aspect='auto', interpolation='none', origin='lower')\n",
    "plt.savefig('data0.png')\n",
    "\n",
    "plt.imshow(data1, aspect='auto', interpolation='none', origin='lower')\n",
    "plt.savefig('data1.png')"
   ]
  },
  {
   "cell_type": "code",
   "execution_count": 49,
   "metadata": {},
   "outputs": [],
   "source": [
    "from openmesh import *"
   ]
  },
  {
   "cell_type": "code",
   "execution_count": 50,
   "metadata": {},
   "outputs": [
    {
     "ename": "TypeError",
     "evalue": "__init__() should return None, not 'NoneType'",
     "traceback": [
      "\u001b[0;31m---------------------------------------------------------------------------\u001b[0m",
      "\u001b[0;31mTypeError\u001b[0m                                 Traceback (most recent call last)",
      "\u001b[0;32m<ipython-input-50-64e8ed314fd9>\u001b[0m in \u001b[0;36m<module>\u001b[0;34m()\u001b[0m\n\u001b[0;32m----> 1\u001b[0;31m \u001b[0mmesh\u001b[0m \u001b[0;34m=\u001b[0m \u001b[0mTriMesh\u001b[0m\u001b[0;34m(\u001b[0m\u001b[0;34m)\u001b[0m\u001b[0;34m\u001b[0m\u001b[0m\n\u001b[0m",
      "\u001b[0;31mTypeError\u001b[0m: __init__() should return None, not 'NoneType'"
     ],
     "output_type": "error"
    }
   ],
   "source": [
    "mesh = TriMesh()"
   ]
  },
  {
   "cell_type": "code",
   "execution_count": 52,
   "metadata": {},
   "outputs": [],
   "source": [
    "np.savetxt(\"data0.csv\", data0, delimiter=\",\")"
   ]
  },
  {
   "cell_type": "code",
   "execution_count": 53,
   "metadata": {},
   "outputs": [],
   "source": [
    "np.savetxt(\"data1.csv\", data1, delimiter=\",\")"
   ]
  },
  {
   "cell_type": "code",
   "execution_count": null,
   "metadata": {},
   "outputs": [],
   "source": []
  }
 ],
 "metadata": {
  "kernelspec": {
   "display_name": "Python 3",
   "language": "python",
   "name": "python3"
  },
  "language_info": {
   "codemirror_mode": {
    "name": "ipython",
    "version": 3
   },
   "file_extension": ".py",
   "mimetype": "text/x-python",
   "name": "python",
   "nbconvert_exporter": "python",
   "pygments_lexer": "ipython3",
   "version": "3.6.3"
  }
 },
 "nbformat": 4,
 "nbformat_minor": 2
}
